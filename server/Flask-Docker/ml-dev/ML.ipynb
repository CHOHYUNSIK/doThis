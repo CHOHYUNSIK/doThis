{
 "cells": [
  {
   "cell_type": "code",
   "execution_count": 2,
   "id": "403b76b6",
   "metadata": {},
   "outputs": [],
   "source": [
    "# Import modules\n",
    "# Pickle\n",
    "import pickle\n",
    "# Numpy, Pandas\n",
    "import numpy as np\n",
    "import pandas as pd\n",
    "# sklearn\n",
    "from sklearn.preprocessing import StandardScaler\n",
    "from sklearn.preprocessing import LabelEncoder\n",
    "from sklearn import tree\n",
    "from sklearn.model_selection import train_test_split\n",
    "from sklearn.metrics import accuracy_score\n",
    "from sklearn.metrics import classification_report"
   ]
  },
  {
   "cell_type": "code",
   "execution_count": 3,
   "id": "9b22682a",
   "metadata": {},
   "outputs": [],
   "source": [
    "# get data\n",
    "df = pd.read_csv(\"data/students_adaptability_level_online_education.csv\")\n",
    "df_clean = pd.read_csv(\"data/clean.csv\")\n",
    "\n",
    "# This features (Load-shedding, Self Lms, Instutition Type) can't understand the meaning. \n",
    "# Delete feature('Education Level','Device','IT Student')\n",
    "df = df.drop(['Load-shedding','Self Lms','Institution Type','Education Level','Device','IT Student'], axis=1)\n",
    "\n",
    "# This feature (Unnamed: 0) are unnecessary. Delete feature(Unnamed: 0)\n",
    "df = df.drop(['Unnamed: 0'],axis=1)\n",
    "    \n",
    "# Delete if the record contains a NaN value.\n",
    "df.dropna(axis=0, inplace=True)\n",
    "df.reset_index(drop=True, inplace=True)\n",
    "\n",
    "# Except for academic background that is not fit for our purposes (Age=['1-5','21-25','26-30'])\n",
    "df = df[df['Age']!='01-05']\n",
    "df = df[df['Age']!='21-25']\n",
    "df = df[df['Age']!='26-30']\n",
    "\n",
    "# Reset index\n",
    "df.reset_index(drop=True, inplace=True)"
   ]
  },
  {
   "cell_type": "code",
   "execution_count": 4,
   "id": "92db0e02",
   "metadata": {
    "scrolled": false
   },
   "outputs": [],
   "source": [
    "# Function : preprocessing for exist data\n",
    "# Input : raw data / Output : processed data\n",
    "def preprocess(datas):\n",
    "    \n",
    "    # Label Encoding\n",
    "    ldf = datas.copy()\n",
    "    le = LabelEncoder()\n",
    "    for feature in list(df.columns):\n",
    "        ldf[feature]=le.fit_transform(df[feature].values)\n",
    " \n",
    "    # Scaling -> StandardScaler\n",
    "    X_ldf=ldf.drop(['Adaptivity Level'], axis=1)\n",
    "    scaled_df = StandardScaler().fit_transform(X_ldf)\n",
    "    scaled_df = pd.DataFrame(scaled_df,columns=list(X_ldf.columns))\n",
    "\n",
    "    # Make complete scaled dataframe\n",
    "    scaled_df = pd.concat([scaled_df,ldf['Adaptivity Level']], axis=1)\n",
    "    \n",
    "    return scaled_df\n"
   ]
  },
  {
   "cell_type": "code",
   "execution_count": 5,
   "id": "87db38c0",
   "metadata": {},
   "outputs": [],
   "source": [
    "# Function : preprocessing for input data\n",
    "# Input : raw data / Output : processed data\n",
    "def preprocess_input(data):\n",
    "\n",
    "    # Make DataFrame\n",
    "    data = pd.DataFrame(data, \n",
    "                        columns=['Gender','Age','Location','Financial Condition','Internet Type','Network Type','Class Duration'],)\n",
    "    \n",
    "    # Copy clean data\n",
    "    df_clean_copy = df_clean.copy()\n",
    "\n",
    "    # Add user data into dataset\n",
    "    X_df = df_clean_copy.drop(columns=['Education Level','IT Student','Device','Adaptivity Level'])\n",
    "    df = X_df.to_numpy()\n",
    "    df = np.append(df,data, axis=0)\n",
    "\n",
    "    # Encoding & Scaling\n",
    "    le = LabelEncoder()\n",
    "    org_df = pd.DataFrame(df,columns=['Gender','Age','Location','Financial Condition','Internet Type','Network Type','Class Duration'])\n",
    "    for feature in ['Gender','Age','Location','Financial Condition','Internet Type','Network Type','Class Duration']:\n",
    "        org_df[feature]=le.fit_transform(org_df[feature].values)\n",
    "    scaler = StandardScaler()\n",
    "    df = scaler.fit_transform(org_df)\n",
    "\n",
    "    # Get user input\n",
    "    user = df[-1]\n",
    "    \n",
    "    return user\n"
   ]
  },
  {
   "cell_type": "code",
   "execution_count": 6,
   "id": "85e36efe",
   "metadata": {},
   "outputs": [],
   "source": [
    "# preprocessing\n",
    "scaled_df = preprocess(df)"
   ]
  },
  {
   "cell_type": "code",
   "execution_count": 7,
   "id": "2f70d3da",
   "metadata": {},
   "outputs": [],
   "source": [
    "# Split X,y\n",
    "X = scaled_df.drop(columns=['Adaptivity Level']).values\n",
    "y = scaled_df['Adaptivity Level'].values\n",
    "\n",
    "# Split the dataset 75% for training and 25% for testing\n",
    "X_train, X_test, y_train, y_test = train_test_split(X,y,train_size=0.75,test_size=0.25,shuffle=True)"
   ]
  },
  {
   "cell_type": "code",
   "execution_count": 8,
   "id": "2f33576d",
   "metadata": {},
   "outputs": [],
   "source": [
    "# Function : model evaluation (classification report)\n",
    "def model_evaluate(model):\n",
    "    y_pred = model.predict(X_test)\n",
    "    print(classification_report(y_test, y_pred))"
   ]
  },
  {
   "cell_type": "code",
   "execution_count": 9,
   "id": "3c1d826c",
   "metadata": {},
   "outputs": [
    {
     "name": "stdout",
     "output_type": "stream",
     "text": [
      "              precision    recall  f1-score   support\n",
      "\n",
      "           0       0.83      0.56      0.67       194\n",
      "           1       0.83      0.80      0.82      1125\n",
      "           2       0.81      0.87      0.84      1424\n",
      "\n",
      "    accuracy                           0.82      2743\n",
      "   macro avg       0.82      0.74      0.78      2743\n",
      "weighted avg       0.82      0.82      0.82      2743\n",
      "\n"
     ]
    }
   ],
   "source": [
    "# Pipeline\n",
    "from sklearn.pipeline import Pipeline\n",
    "\n",
    "# Split X,y\n",
    "X = scaled_df.drop(columns=['Adaptivity Level']).values\n",
    "y = scaled_df['Adaptivity Level'].values\n",
    "\n",
    "# Make pipeline (scaler, model) & fit pipeline\n",
    "pipe = Pipeline([('scaler', StandardScaler()), ('clf',tree.DecisionTreeClassifier(criterion='entropy'))])\n",
    "pipe.fit(X_train, y_train)\n",
    "\n",
    "model_evaluate(pipe)"
   ]
  },
  {
   "cell_type": "code",
   "execution_count": 10,
   "id": "afd4c138",
   "metadata": {},
   "outputs": [
    {
     "name": "stdout",
     "output_type": "stream",
     "text": [
      "              precision    recall  f1-score   support\n",
      "\n",
      "           0       0.83      0.56      0.67       194\n",
      "           1       0.83      0.80      0.82      1125\n",
      "           2       0.81      0.87      0.84      1424\n",
      "\n",
      "    accuracy                           0.82      2743\n",
      "   macro avg       0.82      0.74      0.78      2743\n",
      "weighted avg       0.82      0.82      0.82      2743\n",
      "\n"
     ]
    }
   ],
   "source": [
    "# Save pipeline.pickle\n",
    "with open('pipeline.pickle','wb') as f:\n",
    "    pickle.dump(pipe,f)\n",
    "    \n",
    "# Load pipeline.pickle\n",
    "with open('pipeline.pickle','rb') as f:\n",
    "    loaded_pipe = pickle.load(f)\n",
    "\n",
    "# Check loaded pipeline.pickle\n",
    "model_evaluate(loaded_pipe)"
   ]
  },
  {
   "cell_type": "code",
   "execution_count": 11,
   "id": "625007ac",
   "metadata": {},
   "outputs": [
    {
     "name": "stdout",
     "output_type": "stream",
     "text": [
      "[{'pred:': 0, 'label': 'High'}]\n"
     ]
    }
   ],
   "source": [
    "# Function : predict result\n",
    "def predict(model, data):\n",
    "    # Make list into ndarray\n",
    "    data = [data.split(',')]\n",
    "    # Preprocessing\n",
    "    preprocessed_df = preprocess_input(data)\n",
    "    predictions = model.predict(preprocessed_df.reshape(1,-1))\n",
    "    \n",
    "    pred_to_label = {0: 'High', 1: 'Low', 2: 'Moderate'}\n",
    "\n",
    "    # Make a list of result\n",
    "    result = []\n",
    "    for pred in predictions:\n",
    "        result.append({'pred:': int(pred), 'label': pred_to_label[pred]})\n",
    "    \n",
    "    return result\n",
    "\n",
    "# Test\n",
    "if __name__==\"__main__\":\n",
    "    data = \"Boy,11-15,No,Rich,Mobile Data,4G,03-06\"\n",
    "    predictions = predict(loaded_pipe, data)\n",
    "    print(predictions)"
   ]
  }
 ],
 "metadata": {
  "kernelspec": {
   "display_name": "Python 3.9.12 ('opencv')",
   "language": "python",
   "name": "python3"
  },
  "language_info": {
   "codemirror_mode": {
    "name": "ipython",
    "version": 3
   },
   "file_extension": ".py",
   "mimetype": "text/x-python",
   "name": "python",
   "nbconvert_exporter": "python",
   "pygments_lexer": "ipython3",
   "version": "3.9.12"
  },
  "vscode": {
   "interpreter": {
    "hash": "aa871bc3ad8a0f2c8605903bfb03dd1a6b56ba121f4e84d91d04d0b989f48b14"
   }
  }
 },
 "nbformat": 4,
 "nbformat_minor": 5
}
